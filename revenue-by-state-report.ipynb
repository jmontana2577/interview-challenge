{
 "cells": [
  {
   "cell_type": "code",
   "execution_count": 1,
   "metadata": {
    "collapsed": true
   },
   "outputs": [],
   "source": [
    "import pandas as pd\n",
    "import numpy as np"
   ]
  },
  {
   "cell_type": "code",
   "execution_count": 2,
   "metadata": {},
   "outputs": [
    {
     "data": {
      "text/html": [
       "<div>\n",
       "<table border=\"1\" class=\"dataframe\">\n",
       "  <thead>\n",
       "    <tr style=\"text-align: right;\">\n",
       "      <th></th>\n",
       "      <th>id</th>\n",
       "      <th>nonsense_1</th>\n",
       "      <th>nonsense_2</th>\n",
       "      <th>revenue</th>\n",
       "      <th>state</th>\n",
       "    </tr>\n",
       "  </thead>\n",
       "  <tbody>\n",
       "    <tr>\n",
       "      <th>0</th>\n",
       "      <td>0</td>\n",
       "      <td>471.845385</td>\n",
       "      <td>8911</td>\n",
       "      <td>24324.167872</td>\n",
       "      <td>33</td>\n",
       "    </tr>\n",
       "    <tr>\n",
       "      <th>1</th>\n",
       "      <td>1</td>\n",
       "      <td>121.850248</td>\n",
       "      <td>259</td>\n",
       "      <td>15150.651386</td>\n",
       "      <td>39</td>\n",
       "    </tr>\n",
       "    <tr>\n",
       "      <th>2</th>\n",
       "      <td>2</td>\n",
       "      <td>171.122319</td>\n",
       "      <td>513</td>\n",
       "      <td>6384.980849</td>\n",
       "      <td>16</td>\n",
       "    </tr>\n",
       "    <tr>\n",
       "      <th>3</th>\n",
       "      <td>3</td>\n",
       "      <td>372.707752</td>\n",
       "      <td>6010</td>\n",
       "      <td>313.662648</td>\n",
       "      <td>6</td>\n",
       "    </tr>\n",
       "    <tr>\n",
       "      <th>4</th>\n",
       "      <td>4</td>\n",
       "      <td>254.641812</td>\n",
       "      <td>3469</td>\n",
       "      <td>1935.898853</td>\n",
       "      <td>3</td>\n",
       "    </tr>\n",
       "  </tbody>\n",
       "</table>\n",
       "</div>"
      ],
      "text/plain": [
       "   id  nonsense_1  nonsense_2       revenue  state\n",
       "0   0  471.845385        8911  24324.167872     33\n",
       "1   1  121.850248         259  15150.651386     39\n",
       "2   2  171.122319         513   6384.980849     16\n",
       "3   3  372.707752        6010    313.662648      6\n",
       "4   4  254.641812        3469   1935.898853      3"
      ]
     },
     "execution_count": 2,
     "metadata": {},
     "output_type": "execute_result"
    }
   ],
   "source": [
    "# generate random data for the dataframe\n",
    "ids = range(1000)\n",
    "revenues = np.random.uniform(low=0, high=25000, size=(1000,))\n",
    "states = np.random.randint(low=1, high=51, size=(1000,))\n",
    "dummy1 = np.random.uniform(low=10, high=500, size=(1000,))\n",
    "dummy2 = np.random.randint(low=100, high=10000, size=(1000,))\n",
    "df = pd.DataFrame({'id':ids, 'state':states, 'revenue':revenues, 'nonsense_1':dummy1, 'nonsense_2':dummy2})\n",
    "df.head()"
   ]
  },
  {
   "cell_type": "code",
   "execution_count": 3,
   "metadata": {},
   "outputs": [],
   "source": [
    "# sum the revenue for each state\n",
    "rev_by_state = df.groupby(by=['state'])[['revenue']].sum()"
   ]
  },
  {
   "cell_type": "code",
   "execution_count": 4,
   "metadata": {},
   "outputs": [
    {
     "name": "stdout",
     "output_type": "stream",
     "text": [
      "  1: 304352.80\n",
      "  2: 370089.00\n",
      "  3: 190452.68\n",
      "  4: 280144.84\n",
      "  5: 321044.24\n",
      "  6: 244087.26\n",
      "  7: 332612.20\n",
      "  8: 202189.07\n",
      "  9: 306784.14\n",
      " 10: 310643.17\n",
      " 11: 218277.98\n",
      " 12: 214974.16\n",
      " 13: 312062.98\n",
      " 14: 369511.69\n",
      " 15: 253883.33\n",
      " 16: 334079.54\n",
      " 17: 212909.70\n",
      " 18: 200097.05\n",
      " 19: 281723.91\n",
      " 20: 92046.24\n",
      " 21: 253428.88\n",
      " 22: 198975.77\n",
      " 23: 308216.86\n",
      " 24: 262942.77\n",
      " 25: 247190.17\n",
      " 26: 265731.38\n",
      " 27: 301466.79\n",
      " 28: 260517.12\n",
      " 29: 156738.70\n",
      " 30: 166488.08\n",
      " 31: 199987.63\n",
      " 32: 304363.69\n",
      " 33: 298957.03\n",
      " 34: 333698.36\n",
      " 35: 257457.62\n",
      " 36: 247574.86\n",
      " 37: 196199.33\n",
      " 38: 253584.48\n",
      " 39: 236190.56\n",
      " 40: 284337.64\n",
      " 41: 220769.28\n",
      " 42: 215777.73\n",
      " 43: 189222.85\n",
      " 44: 236311.47\n",
      " 45: 292917.53\n",
      " 46: 350553.39\n",
      " 47: 255908.20\n",
      " 48: 369870.24\n",
      " 49: 218803.06\n",
      " 50: 293638.97\n"
     ]
    }
   ],
   "source": [
    "# print each state and its revenue sum\n",
    "for idx, row in rev_by_state.iterrows():\n",
    "    print('{:3.0f}: {:.2f}'.format(idx, row.revenue))"
   ]
  },
  {
   "cell_type": "code",
   "execution_count": null,
   "metadata": {
    "collapsed": true
   },
   "outputs": [],
   "source": []
  }
 ],
 "metadata": {
  "kernelspec": {
   "display_name": "Python 3",
   "language": "python",
   "name": "python3"
  },
  "language_info": {
   "codemirror_mode": {
    "name": "ipython",
    "version": 3
   },
   "file_extension": ".py",
   "mimetype": "text/x-python",
   "name": "python",
   "nbconvert_exporter": "python",
   "pygments_lexer": "ipython3",
   "version": "3.6.2"
  }
 },
 "nbformat": 4,
 "nbformat_minor": 2
}
